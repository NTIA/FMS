{
 "cells": [
  {
   "cell_type": "markdown",
   "metadata": {},
   "source": [
    "# Python FMS Demo\n",
    "This notebook shows an example of how to use FMS to extract magnitude and phases\n",
    "from audio files. It also compares results to the included reference files, and\n",
    "for more complete analysis one can run the comparisons in the `tests` folder.\n",
    "\n",
    "Finally we include some discussion of the differences between MATLAB and Python\n",
    "reference results."
   ]
  },
  {
   "cell_type": "code",
   "execution_count": null,
   "metadata": {},
   "outputs": [],
   "source": [
    "import os\n",
    "import numpy as np\n",
    "import pickle\n",
    "\n",
    "from fms import fms"
   ]
  },
  {
   "cell_type": "markdown",
   "metadata": {},
   "source": [
    "# Demo"
   ]
  },
  {
   "cell_type": "code",
   "execution_count": null,
   "metadata": {},
   "outputs": [],
   "source": [
    "wav_path = \"../wavs\"\n",
    "fnames = [\n",
    "    \"audioShort16k.wav\",  #     %fs = 16k,      length appx. 1.6 sec\n",
    "    \"audioLong16k.wav\",  #      %fs = 16k,      length appx. 3.5 sec\n",
    "    \"audio22k.wav\",  #          %fs = 22.05k,   length appx. 3.3 sec\n",
    "    \"audio32k.wav\",  #          %fs = 32k,      length appx. 2.9 sec\n",
    "    \"audio44k.wav\",  #          %fs = 44.1k,    length appx. 5.8 sec\n",
    "    \"audio48k.wav\",  #          %fs = 48k,      length appx. 3.0 sec\n",
    "]\n",
    "\n",
    "reference_folder = \"reference_files/\"\n",
    "output_folder = \"output\"\n",
    "\n",
    "os.makedirs(output_folder, exist_ok=True)\n",
    "\n",
    "for fname in fnames:\n",
    "    filepath = os.path.join(wav_path, fname)\n",
    "\n",
    "    # Get FMS representation\n",
    "    PsiM, PsiP = fms(filepath)\n",
    "\n",
    "    name = os.path.basename(filepath)\n",
    "    name, _ = os.path.splitext(name)\n",
    "\n",
    "    outputs = dict(PsiM=PsiM, PsiP=PsiP)\n",
    "    output_path = os.path.join(output_folder, name + \".pkl\")\n",
    "    with open(output_path, \"wb\") as output:\n",
    "        pickle.dump(dict(magnitude=PsiM, phase=PsiP), output)\n",
    "    # Save csvs\n",
    "    csvout = output_path.replace(\".pkl\", \"PsiM.csv\")\n",
    "    np.savetxt(csvout, PsiM, delimiter=\",\")\n",
    "\n",
    "    csvout = output_path.replace(\".pkl\", \"PsiP.csv\")\n",
    "    np.savetxt(csvout, PsiP, delimiter=\",\")\n",
    "\n",
    "ref_name = \"audio48kRef.pkl\"\n",
    "ref_path = os.path.join(reference_folder, ref_name)\n",
    "with open(ref_path, \"rb\") as f:\n",
    "    ref = pickle.load(f)\n",
    "\n",
    "new_name = \"audio48k.pkl\"\n",
    "new_path = os.path.join(output_folder, new_name)\n",
    "with open(new_path, \"rb\") as f:\n",
    "    new = pickle.load(f)\n",
    "\n",
    "for key in [\"magnitude\", \"phase\"]:\n",
    "    abs_error = np.abs(ref[key] - new[key])\n",
    "    mean_abs_error = np.mean(abs_error)\n",
    "    print(f\"Mean absolute {key} error is: {mean_abs_error} \")"
   ]
  },
  {
   "cell_type": "markdown",
   "metadata": {},
   "source": [
    "# Differences between MATLAB and Python\n",
    "It is natural that MATLAB and Python would not generate identical results, however\n",
    "the difference between the two should be fairly small. \n",
    "We include average absolute differences between both for all reference files below.\n",
    "Magnitudes exhibit very good agreement, while phase has a bit more difference.\n",
    "This is somewhat expected as phase results can be more sensitive to slight perturbations\n",
    "due to rounding and precision differences throughout the FMS calculation. \n",
    "Overall the results are extremely reasonable.\n",
    "\n",
    "audio22kRef\n",
    "* magnitude: 1.5033473510812887e-19\n",
    "* phase: 0.00037530004947556407\n",
    "\n",
    "audio48kRef\n",
    "* magnitude: 8.11734760883782e-20\n",
    "* phase: 8.177660903038038e-05\n",
    "\n",
    "audioShort16kRef\n",
    "* magnitude: 3.0613954470587554e-19\n",
    "* phase: 0.0006296930242040113\n",
    "\n",
    "audio44kRef\n",
    "* magnitude: 1.4160249232287764e-19\n",
    "* phase: 0.00014808471213714481\n",
    "\n",
    "audioLong16kRef\n",
    "* magnitude: 1.3214044849412107e-19\n",
    "* phase: 0.0003434441507133363\n",
    "\n",
    "audio32kRef\n",
    "* magnitude: 9.194211770200409e-20\n",
    "* phase: 4.244071711228354e-16"
   ]
  }
 ],
 "metadata": {
  "kernelspec": {
   "display_name": "Python 3 (ipykernel)",
   "language": "python",
   "name": "python3"
  },
  "language_info": {
   "codemirror_mode": {
    "name": "ipython",
    "version": 3
   },
   "file_extension": ".py",
   "mimetype": "text/x-python",
   "name": "python",
   "nbconvert_exporter": "python",
   "pygments_lexer": "ipython3",
   "version": "3.10.12"
  }
 },
 "nbformat": 4,
 "nbformat_minor": 2
}
