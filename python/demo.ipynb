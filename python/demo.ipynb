{
 "cells": [
  {
   "cell_type": "code",
   "execution_count": null,
   "metadata": {},
   "outputs": [],
   "source": [
    "import os\n",
    "from scipy.io import loadmat, savemat\n",
    "\n",
    "from fms import fms"
   ]
  },
  {
   "cell_type": "code",
   "execution_count": null,
   "metadata": {},
   "outputs": [],
   "source": [
    "wav_path = \"../wavs\"\n",
    "fnames = [\n",
    "    'audioShort16k.wav', #     %fs = 16k,      length appx. 1.6 sec\n",
    "    'audioLong16k.wav', #      %fs = 16k,      length appx. 3.5 sec\n",
    "    'audio22k.wav', #          %fs = 22.05k,   length appx. 3.3 sec\n",
    "    'audio32k.wav', #          %fs = 32k,      length appx. 2.9 sec\n",
    "    'audio44k.wav', #          %fs = 44.1k,    length appx. 5.8 sec\n",
    "    'audio48k.wav', #          %fs = 48k,      length appx. 3.0 sec \n",
    "]\n",
    "\n",
    "reference_folder = \"../reference_files/\"\n",
    "output_folder = \"output\"\n",
    "\n",
    "os.makedirs(output_folder, exist_ok=True)\n",
    "\n",
    "for fname in fnames:\n",
    "    filepath = os.path.join(wav_path, fname)\n",
    "\n",
    "    outs = fms(filepath)\n",
    "    # TODO: Update when we have outputs\n",
    "    if outs is not None:\n",
    "        PsiM, PsiP = outs\n",
    "    else:\n",
    "        break\n",
    "\n",
    "    name = os.path.basename(filepath)\n",
    "    name, _ = os.path.splitext(name)\n",
    "    # TODO: Save PsiM and PsiP\n",
    "    outputs = dict(PsiM=PsiM, PsiP=PsiP)\n",
    "    output_path = os.path.join(output_path, name + '.mat')\n",
    "    savemat(output_path, outputs)\n",
    "\n",
    "ref_name = 'audio48kRef.mat'\n",
    "ref_path = os.path.join(reference_folder, ref_name)\n",
    "ref = loadmat(ref_path)\n",
    "\n",
    "new_name = 'audio48k.mat'\n",
    "new_path = os.path.join(output_folder, new_name)\n",
    "# TODO: Return when this has been saved\n",
    "new = loadmat(new_path)"
   ]
  },
  {
   "cell_type": "code",
   "execution_count": null,
   "metadata": {},
   "outputs": [],
   "source": [
    "ref['PsiM']"
   ]
  },
  {
   "cell_type": "code",
   "execution_count": null,
   "metadata": {},
   "outputs": [],
   "source": [
    "# % Calls GWEMS.m to create PsiM and PsiP for 6 different audio files.\n",
    "# % Results are saved in .mat and .csv files.\n",
    "# %\n",
    "# % Also contains example code to compare new results with reference results\n",
    "# %\n",
    "# % Written January 12, 2023 by S. Voran at Institute for Telecommunication\n",
    "# % Sciences in Boulder, Colorado, United States: svoran@ntia.gov\n",
    "# wav_path = '../wavs'; %Path containing wav files\n",
    "# fnames = {...\n",
    "# 'audioShort16k.wav'     %fs = 16k,      length appx. 1.6 sec\n",
    "# 'audioLong16k.wav'      %fs = 16k,      length appx. 3.5 sec\n",
    "# 'audio22k.wav'          %fs = 22.05k,   length appx. 3.3 sec\n",
    "# 'audio32k.wav'          %fs = 32k,      length appx. 2.9 sec\n",
    "# 'audio44k.wav'          %fs = 44.1k,    length appx. 5.8 sec\n",
    "# 'audio48k.wav'};        %fs = 48k,      length appx. 3.0 sec\n",
    "# reference_folder = '../reference_files';\n",
    "# output_folder = 'output';\n",
    "# if ~exist(output_folder, 'dir')\n",
    "#     mkdir(output_folder)\n",
    "# end\n",
    "# for i= 1:6 %Loop over audio files listed\n",
    "#     filepath = fullfile(wav_path, fnames{i});\n",
    "#     [PsiM, PsiP] = GWEMS(filepath);     %Apply GWEMS.m\n",
    "#     [~, name, ~] = fileparts(fnames{i}); %Extract base filename\n",
    "#     save(fullfile(output_folder, [name,'.mat']), 'PsiM', 'PsiP'); %Save both variables in .mat\n",
    "#     writematrix(PsiM,fullfile(output_folder, [name,'PsiM.csv']));    %Save PsiM in .csv\n",
    "#     writematrix(PsiP,fullfile(output_folder, [name,'PsiP.csv']));    %Save PsiP in .csv\n",
    "# end\n",
    "\n",
    "# %Example of how to compare new results with reference results\n",
    "# Ref  = load(fullfile(reference_folder, 'audio48kRef.mat')); %load reference results\n",
    "# New = load(fullfile(output_folder, 'audio48k.mat'));     %load new results\n",
    "\n",
    "# absError = abs(Ref.PsiM - New.PsiM); %calc. absolute difference for PsiM\n",
    "# %Display mean\n",
    "# disp(['Mean absolute PsiM error is: ', num2str( mean( absError(:) ) )])\n",
    "\n",
    "# absError = abs(Ref.PsiP - New.PsiP); %calc. absolute difference for PsiM\n",
    "# %Display mean\n",
    "# disp(['Mean absolute PsiP error is: ', num2str( mean( absError(:) ) )])"
   ]
  }
 ],
 "metadata": {
  "kernelspec": {
   "display_name": "Python 3 (ipykernel)",
   "language": "python",
   "name": "python3"
  },
  "language_info": {
   "codemirror_mode": {
    "name": "ipython",
    "version": 3
   },
   "file_extension": ".py",
   "mimetype": "text/x-python",
   "name": "python",
   "nbconvert_exporter": "python",
   "pygments_lexer": "ipython3",
   "version": "3.10.10"
  }
 },
 "nbformat": 4,
 "nbformat_minor": 2
}
